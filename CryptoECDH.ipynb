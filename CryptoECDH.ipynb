{
  "nbformat": 4,
  "nbformat_minor": 0,
  "metadata": {
    "colab": {
      "name": "CryptoECDH.ipynb",
      "provenance": [],
      "collapsed_sections": [],
      "include_colab_link": true
    },
    "kernelspec": {
      "name": "python3",
      "display_name": "Python 3"
    },
    "language_info": {
      "name": "python"
    }
  },
  "cells": [
    {
      "cell_type": "markdown",
      "metadata": {
        "id": "view-in-github",
        "colab_type": "text"
      },
      "source": [
        
      ]
    },
    {
      "cell_type": "markdown",
      "metadata": {
        "id": "rRVr_WyXw9Fl"
      },
      "source": [
        "**Securing Data Transmission: Cryptology, Watermarking and Steganography**\n",
        "\n",
        "**AGH University of Science and Technology**\n",
        "\n",
        "**Faculty:** Computer Science, Electronics and Telecommunications\n",
        "\n",
        "**Field of study:**\tElectronics and Telecommunications\n",
        "\n",
        "**Year of study:**\tIII\n",
        "\n",
        "**Date:**\t\t\t04.06.2021\n",
        "\n",
        "**Students name:**\n",
        "*   Jakub Pasoń (305259)\n",
        "*   Seweryn Dumania (305254)\n",
        "*   Hubert Hanusiak (305256)\n",
        "*   Maciej Śliwiński (297162)\n",
        "\n",
        "\n",
        "**Topic:** Elliptic Curve Diffie-Hellman (Implementation of curves 448 and 25519)\n",
        "\n",
        "**Supervisor:** Prof. Dr Hab. Piotr Chołda\n",
        "\n",
        "\n"
      ]
    },
    {
      "cell_type": "markdown",
      "metadata": {
        "id": "I_0EZwNqGBDc"
      },
      "source": [
        "**Introduction + aim of the project**\n",
        "\n",
        "Our goal is to implement an ECDH key exchange algorithm in order to get a shared key that can be used for message encryption. We also used two of the most popular curves - 448 & 25519 and compared their performance. \n",
        "\n",
        "\n",
        "\n",
        "\n",
        "Eliptic Curve Crypthography (ECC) is nowadays one of the most researched encryption schemes, which in comparison to RSA is more efficient, less energy consumpting and more immune to attacks. While RSA uses exponantiation, ECC is based on Eliptic Curves operations (scalar multipliaction, point addition). Moreover it is not proved that RSA can be cracked nowadays, we must be aware that in the future it may be prone to new attacks (especially in 5G), this is why ECC can take the place of RSA.  \n"
      ]
    },
    {
      "cell_type": "markdown",
      "metadata": {
        "id": "Q4ztGe-0xzgs"
      },
      "source": [
        "#ECDH 448"
      ]
    },
    {
      "cell_type": "code",
      "metadata": {
        "id": "c79JGSJGv9Wd"
      },
      "source": [
        "import os\n",
        "import binascii"
      ],
      "execution_count": null,
      "outputs": []
    },
    {
      "cell_type": "code",
      "metadata": {
        "id": "e8hoEoezxbix"
      },
      "source": [
        "def bytes_to_int_448(bytes):\n",
        "    result = 0\n",
        "    for b in bytes:\n",
        "        result = int(result * 256) + int(b)\n",
        "    return int(result)\n",
        "\n",
        "def int_to_bytes_448(value, length):\n",
        "    result = []\n",
        "    for i in range(0, length):\n",
        "        result.append(value >> (i * 8) & 0xff)\n",
        "    return result"
      ],
      "execution_count": null,
      "outputs": []
    },
    {
      "cell_type": "markdown",
      "metadata": {
        "id": "2Clu8AW-8q7a"
      },
      "source": [
        "Conversion between bytes and integer representation"
      ]
    },
    {
      "cell_type": "code",
      "metadata": {
        "id": "CFIsAXPBu8Q8"
      },
      "source": [
        "def decodeLittleEndian_448(b):\n",
        "    return sum([b[i] << 8 * i for i in range(56)])      # 56 bytes string (input & output)"
      ],
      "execution_count": null,
      "outputs": []
    },
    {
      "cell_type": "markdown",
      "metadata": {
        "id": "8g3WDiO09dtP"
      },
      "source": [
        "\n",
        "Array of bytes in little-endian order due to convention for 56 byte string for Curve 448"
      ]
    },
    {
      "cell_type": "code",
      "metadata": {
        "id": "OdiJI5rUvAH9"
      },
      "source": [
        "def decodeScalar448(k):\n",
        "    k_list = [(b) for b in k]\n",
        "    k_list[0] &= 252    # 1111 1000\n",
        "    k_list[55] |= 128   # 1000 0000\n",
        "    return decodeLittleEndian_448(k_list)"
      ],
      "execution_count": null,
      "outputs": []
    },
    {
      "cell_type": "markdown",
      "metadata": {
        "id": "GYYJWaI6BDzI"
      },
      "source": [
        "Here we want to decode the 56 random bytes as an integer scalar.\n",
        "\n",
        "For Curve 448 we set the two least significant bit of the last byte to 0 and the most significant bit of the last byte to 1 "
      ]
    },
    {
      "cell_type": "code",
      "metadata": {
        "id": "XpT3cVtSvDxM"
      },
      "source": [
        "def cswap_448(swap, x_2, x_3):\n",
        "    swap *= -1\n",
        "    dummy = swap & (x_2 ^ x_3)\n",
        "    x_2 ^= dummy\n",
        "    x_3 ^= dummy\n",
        "    return x_2, x_3"
      ],
      "execution_count": null,
      "outputs": []
    },
    {
      "cell_type": "markdown",
      "metadata": {
        "id": "m74fphDwB2Ci"
      },
      "source": [
        " Constant time conditional swap function - returning either **(x_2,x_3)** when scalar bit **swap** is cleared else **(x_3,x_2)**\n",
        " \n",
        "This function is a countermeasure for potential cache-based attacks which could reveal the scalar digits"
      ]
    },
    {
      "cell_type": "code",
      "metadata": {
        "id": "UanI5VWOvFFv"
      },
      "source": [
        "def X448(k, u):\n",
        "    x_1 = u\n",
        "    x_2 = 1\n",
        "    z_2 = 0\n",
        "    x_3 = u\n",
        "    z_3 = 1\n",
        "    swap = 0\n",
        "\n",
        "    for t in reversed(range(448)):\n",
        "        k_t = (k >> t) & 1\n",
        "        swap ^= k_t\n",
        "        x_2, x_3 = cswap_448(swap, x_2, x_3)\n",
        "        z_2, z_3 = cswap_448(swap, z_2, z_3)\n",
        "        swap = k_t\n",
        "\n",
        "        A = x_2 + z_2\n",
        "        AA = A * A\n",
        "\n",
        "        B = x_2 - z_2\n",
        "        BB = B * B\n",
        "\n",
        "        E = AA - BB\n",
        "\n",
        "        C = x_3 + z_3\n",
        "        D = x_3 - z_3\n",
        "\n",
        "        DA = D * A\n",
        "        CB = C * B\n",
        "\n",
        "        x_3 = ((DA + CB) % P_448) ** 2\n",
        "        x_3 %= P_448\n",
        "\n",
        "        z_3 = x_1 * (((DA - CB) % P_448) ** 2) % P_448\n",
        "        z_3 %= P_448\n",
        "\n",
        "        x_2 = AA * BB\n",
        "        x_2 %= P_448\n",
        "\n",
        "        z_2 = E * ((AA + (A24_448 * E) % P_448) % P_448)\n",
        "        z_2 %= P_448\n",
        "\n",
        "    x_2, x_3 = cswap_448(swap, x_2, x_3)\n",
        "    z_2, z_3 = cswap_448(swap, z_2, z_3)\n",
        "\n",
        "    return (x_2 * pow(z_2, P_448 - 2, P_448)) % P_448"
      ],
      "execution_count": null,
      "outputs": []
    },
    {
      "cell_type": "markdown",
      "metadata": {
        "id": "E0wPhvhZEzTJ"
      },
      "source": [
        "Function for Curve 448 implementation which takes two parameters:\n",
        "\n",
        "\n",
        "*   k - scalar\n",
        "*   u - u coordinate\n",
        "\n",
        "In this function we ensure that we operate at the defined Galois Field for specific prime number 2^448 - 2^224 - 1"
      ]
    },
    {
      "cell_type": "code",
      "metadata": {
        "id": "9TwxbCiVvHs0"
      },
      "source": [
        "def decodeUCoordinate_448(s):\n",
        "    if len(s) != 56:\n",
        "        raise ValueError('Invalid Curve448 scalar (len=%d)' % len(s))\n",
        "    return sum(ord(s[i]) << (8 * i) for i in range(56))\n",
        "\n",
        "def encodeUCoordinate_448(n):\n",
        "    return ''.join([chr((n >> (8 * i)) & 255) for i in range(56)])"
      ],
      "execution_count": null,
      "outputs": []
    },
    {
      "cell_type": "markdown",
      "metadata": {
        "id": "FUfh_qHBF9R0"
      },
      "source": [
        "Encoding and decoding to and from little-endian for u-coordinate\n",
        "\n"
      ]
    },
    {
      "cell_type": "code",
      "metadata": {
        "id": "WpGOepx3vKnU"
      },
      "source": [
        "# Return nP\n",
        "def multscalar_448(n, p):\n",
        "    n = decodeScalar448(n) % P_448\n",
        "    p = decodeUCoordinate_448(p)\n",
        "    return encodeUCoordinate_448(X448(n, p))"
      ],
      "execution_count": null,
      "outputs": []
    },
    {
      "cell_type": "markdown",
      "metadata": {
        "id": "ySt3Fs1rJYEq"
      },
      "source": [
        "Scalar multiplication for any point on the Eliptic curve"
      ]
    },
    {
      "cell_type": "code",
      "metadata": {
        "id": "tQ6ZQlCdvQUd"
      },
      "source": [
        "def base_point_mult_448(n):\n",
        "    n = decodeScalar448(n) % P_448                  # u-coordinate of the base point encoded as a byte with value 5,\n",
        "    return encodeUCoordinate_448(X448(n, 5))        # followed by 55 zero bytes"
      ],
      "execution_count": null,
      "outputs": []
    },
    {
      "cell_type": "markdown",
      "metadata": {
        "id": "cBKXpVAlJlwX"
      },
      "source": [
        "Base point multiplication ( for Curve 448 = 5), from this point all the scalar operations begin"
      ]
    },
    {
      "cell_type": "markdown",
      "metadata": {
        "id": "j3c2ztc_KNVN"
      },
      "source": [
        "## ECDH Curve 448 simulation"
      ]
    },
    {
      "cell_type": "code",
      "metadata": {
        "id": "NKcyGdPevQ80",
        "colab": {
          "base_uri": "https://localhost:8080/"
        },
        "outputId": "0de5c2c4-9a57-4fc6-dd6b-f1e3aac6677a"
      },
      "source": [
        "P_448 = 2 ** 448 - 2 ** 224 - 1\n",
        "A24_448 = 156326         #y^2 + x^2 = 1 - 156326*x^2*y^2\n",
        "\n",
        "a = os.urandom(56)       # generating random 56-bytes strings (private a)\n",
        "b = os.urandom(56)       # generating random 56-bytes strings (private b)\n",
        "\n",
        "\n",
        "print(f\"\\nAlice private (a): \\t{bytes_to_int_448(a)}\")\n",
        "print(f\"Bob private (b):\\t{bytes_to_int_448(b)}\")\n",
        "\n",
        "\n",
        "# Traditional ECDH:\n",
        "a_pub = base_point_mult_448(a)      # a * G\n",
        "b_pub = base_point_mult_448(b)      # b * G\n",
        "\n",
        "\n",
        "print(\"\\nAlice public (aG):\\t\", binascii.hexlify(a_pub.encode()))       # representing aG in hex (encode -> to ASCII)\n",
        "print(\"Bob public (bG):\\t\", binascii.hexlify(b_pub.encode()))           # representing bG in hex (encode -> to ASCII)\n",
        "\n",
        "\n",
        "k_a = multscalar_448(a, b_pub)    # a * (bG)\n",
        "k_b = multscalar_448(b, a_pub)    # b * (aG)\n",
        "\n",
        "\n",
        "print(\"\\nAlice shared (a)bG:\\t\", binascii.hexlify(k_a.encode()))\n",
        "print(\"Bob shared (b)aG:\\t\", binascii.hexlify(k_b.encode()))\n",
        "\n",
        "print('\\nAre equal: ', binascii.hexlify(k_a.encode()) == binascii.hexlify(k_b.encode()))"
      ],
      "execution_count": null,
      "outputs": [
        {
          "output_type": "stream",
          "text": [
            "\n",
            "Alice private (a): \t408928707491328080926612213263456262343599757188351721513172161431199878444635285156232735085201293027151387024593264954858784461409605\n",
            "Bob private (b):\t426590600660812580902795769151115902876923029556501694425257824561947658324712152695011230874176940933770691705931146514446568418834852\n",
            "\n",
            "Alice public (aG):\t b'2b2e43c298c28ac3a3c28e371d7721691dc2812dc3ab35430206c2a74e5437c2a1c3936f08c3af69c282c388c2a9c3a756c2b0c2abc3813348c3b236c280c398c2be6fc3bb650dc2903fc2abc2b31ec2bec3b9'\n",
            "Bob public (bG):\t b'c2b2c3931ec2b3c29369c386c38fc2a6c2a1c28bc3a8c294c3b35876c2b84523c2a01932c38e59c3aa1ac29ec3a4c280c393c2b2c2b43527c2ad03c38bc3b46f6bc2ba0421c3a25d095ec394c3a965c389c395c29754c2890c'\n",
            "\n",
            "Alice shared (a)bG:\t b'c295c2b074c383c3b1c3b0c3adc2bc32c3a9494965c285732dc395c2bcc28816c28175c391c2b9c2bac284c3b34117753bc2a267c28851185923c29916c3a142106e55c2994c1ec3b63f7579c2bf1f39c389'\n",
            "Bob shared (b)aG:\t b'c295c2b074c383c3b1c3b0c3adc2bc32c3a9494965c285732dc395c2bcc28816c28175c391c2b9c2bac284c3b34117753bc2a267c28851185923c29916c3a142106e55c2994c1ec3b63f7579c2bf1f39c389'\n",
            "\n",
            "Are equal:  True\n"
          ],
          "name": "stdout"
        }
      ]
    },
    {
      "cell_type": "markdown",
      "metadata": {
        "id": "IYaLB6mcJ5GX"
      },
      "source": [
        "## Verification of the results"
      ]
    },
    {
      "cell_type": "code",
      "metadata": {
        "id": "78qgA756mdL_"
      },
      "source": [
        "import numpy as np\n",
        "import matplotlib.pyplot as plt"
      ],
      "execution_count": null,
      "outputs": []
    },
    {
      "cell_type": "code",
      "metadata": {
        "id": "wY0bE5z1vqUO",
        "colab": {
          "base_uri": "https://localhost:8080/",
          "height": 269
        },
        "outputId": "f4c535b7-e047-4157-d7ac-5551756ea586"
      },
      "source": [
        "y, x = np.ogrid[-1:1:100j, -1:1:100j]       # y^2 + x^2 = 1 - 156326*x^2*y^2\n",
        "plt.contour(x.ravel(), y.ravel(), pow(y, 2) + pow(x, 2) - 1 + A24_448 * pow(x, 2) * pow(y, 2))\n",
        "plt.grid()\n",
        "plt.show()"
      ],
      "execution_count": null,
      "outputs": [
        {
          "output_type": "display_data",
          "data": {
            "image/png": "[encoded data removed]",
            "text/plain": [
              "<Figure size 432x288 with 1 Axes>"
            ]
          },
          "metadata": {
            "tags": [],
            "needs_background": "light"
          }
        }
      ]
    },
    {
      "cell_type": "markdown",
      "metadata": {
        "id": "o7TVyDQGKaHT"
      },
      "source": [
        "## Performance test"
      ]
    },
    {
      "cell_type": "code",
      "metadata": {
        "id": "UDz2fjwjmey_"
      },
      "source": [
        "import time\n",
        "import pandas as pd\n",
        "import statistics"
      ],
      "execution_count": null,
      "outputs": []
    },
    {
      "cell_type": "code",
      "metadata": {
        "id": "ulm47TrJvssN",
        "colab": {
          "base_uri": "https://localhost:8080/"
        },
        "outputId": "706ceb7e-2f67-4728-8798-51d659068b40"
      },
      "source": [
        "n_448 = 200\n",
        "samples_448 = []\n",
        "for i in range(n_448):\n",
        "    start = time.time()\n",
        "    a = os.urandom(56)  # generating random 56-bytes strings (private a)\n",
        "    b = os.urandom(56)  # generating random 56-bytes strings (private b)\n",
        "    a_pub_perform = base_point_mult_448(a)  # a * G\n",
        "    b_pub_perform = base_point_mult_448(b)  # b * G\n",
        "\n",
        "    k_a = multscalar_448(a, b_pub)  # a * (bG)\n",
        "    k_b = multscalar_448(b, a_pub)  # b * (aG)\n",
        "    end = time.time()\n",
        "    samples_448.append(end-start)\n",
        "\n",
        "df_448 = pd.Series(samples_448)\n",
        "mean448 = statistics.mean(samples_448)*1000\n",
        "std448 = df_448.std()*1000\n",
        "print('Average: ', mean448, 'ms')\n",
        "print('Variance: ', std448, 'ms')"
      ],
      "execution_count": null,
      "outputs": [
        {
          "output_type": "stream",
          "text": [
            "Average:  31.16312026977539 ms\n",
            "Variance:  4.180624678874342 ms\n"
          ],
          "name": "stdout"
        }
      ]
    },
    {
      "cell_type": "markdown",
      "metadata": {
        "id": "XUFwsFdMx0Ez"
      },
      "source": [
        "#ECDH25519"
      ]
    },
    {
      "cell_type": "code",
      "metadata": {
        "id": "9piJFritMQmS"
      },
      "source": [
        "def bytes_to_int_25519(bytes):\n",
        "    result = 0\n",
        "    for b in bytes:\n",
        "        result = result * 256 + int(b)\n",
        "    return result\n",
        "\n",
        "def int_to_bytes_25519(value, length):\n",
        "    result = []\n",
        "    for i in range(0, length):\n",
        "        result.append(value >> (i * 8) & 0xff)\n",
        "    return result"
      ],
      "execution_count": null,
      "outputs": []
    },
    {
      "cell_type": "markdown",
      "metadata": {
        "id": "6KoYMoA4NWjb"
      },
      "source": [
        "Conversion between bytes and integer representation"
      ]
    },
    {
      "cell_type": "code",
      "metadata": {
        "id": "qE3z_rUrkscn"
      },
      "source": [
        "def decodeLittleEndian_25519(b):\n",
        "    return sum([b[i] << 8 * i for i in range(32)])"
      ],
      "execution_count": null,
      "outputs": []
    },
    {
      "cell_type": "markdown",
      "metadata": {
        "id": "1MSw0zE1ktIe"
      },
      "source": [
        "Array of bytes in little-endian order due to convention for 32 byte string for Curve 25519"
      ]
    },
    {
      "cell_type": "code",
      "metadata": {
        "id": "tUn5_VhUkzpO"
      },
      "source": [
        "def decodeScalar25519(k):\n",
        "    k_list = [b for b in k]\n",
        "    k_list[0] &= 248    #248 = 1111 1000    #clears 3 LS bits\n",
        "    k_list[31] &= 127   #127 = 0111 1111    #clears MS bit\n",
        "    k_list[31] |= 64    #64  = 0100 0000    #sets 2nd to last MS bit to 1\n",
        "\n",
        "    return decodeLittleEndian_25519(k_list)"
      ],
      "execution_count": null,
      "outputs": []
    },
    {
      "cell_type": "markdown",
      "metadata": {
        "id": "S1b-1S9qk19_"
      },
      "source": [
        "Here we want to decode the 32 random bytes as an integer scalar.\n",
        "\n",
        "For Curve 25519 we set the three least significant bits of the first byte, the most significant bit of the last byte to 0 and the second most significant bit of the last byte to 1"
      ]
    },
    {
      "cell_type": "code",
      "metadata": {
        "id": "6Qm3Ta7rMZGy"
      },
      "source": [
        "def cswap_25519(swap, x_2, x_3):\n",
        "    swap *= -1\n",
        "    dummy = swap & (x_2 ^ x_3)\n",
        "    x_2 ^= dummy\n",
        "    x_3 ^= dummy\n",
        "    return x_2, x_3"
      ],
      "execution_count": null,
      "outputs": []
    },
    {
      "cell_type": "markdown",
      "metadata": {
        "id": "BoY5O7HpNjEU"
      },
      "source": [
        "Constant time conditional swap function - returning either (x_2,x_3) when scalar bit swap is cleared else (x_3,x_2)\n",
        "\n",
        "This function is a countermeasure for potential cache-based attacks which could reveal the scalar digits"
      ]
    },
    {
      "cell_type": "code",
      "metadata": {
        "id": "t6TWum-wMbXL"
      },
      "source": [
        "def X25519(k, u):\n",
        "    x_1 = u\n",
        "    x_2 = 1\n",
        "    z_2 = 0\n",
        "    x_3 = u\n",
        "    z_3 = 1\n",
        "    swap = 0\n",
        "\n",
        "    for t in reversed(range(255)):\n",
        "        k_t = (k >> t) & 1\n",
        "        swap ^= k_t\n",
        "        x_2, x_3 = cswap_25519(swap, x_2, x_3)\n",
        "        z_2, z_3 = cswap_25519(swap, z_2, z_3)\n",
        "        swap = k_t\n",
        "\n",
        "        A = x_2 + z_2\n",
        "\n",
        "        AA = A * A\n",
        "\n",
        "        B = x_2 - z_2\n",
        "\n",
        "        BB = B * B\n",
        "\n",
        "        E = AA - BB\n",
        "\n",
        "        C = x_3 + z_3\n",
        "\n",
        "        D = x_3 - z_3\n",
        "        DA = D * A\n",
        "        CB = C * B\n",
        "\n",
        "        x_3 = ((DA + CB) % P_25519) ** 2\n",
        "        x_3 %= P_25519\n",
        "\n",
        "        z_3 = x_1 * (((DA - CB) % P_25519) ** 2) % P_25519\n",
        "        z_3 %= P_25519\n",
        "\n",
        "        x_2 = AA * BB\n",
        "        x_2 %= P_25519\n",
        "\n",
        "        z_2 = E * ((AA + (A24_25519 * E) % P_25519) % P_25519)\n",
        "        z_2 %= P_25519\n",
        "\n",
        "    x_2, x_3 = cswap_25519(swap, x_2, x_3)\n",
        "    z_2, z_3 = cswap_25519(swap, z_2, z_3)\n",
        "\n",
        "    return (x_2 * pow(z_2, P_25519 - 2, P_25519)) % P_25519\n"
      ],
      "execution_count": null,
      "outputs": []
    },
    {
      "cell_type": "markdown",
      "metadata": {
        "id": "-Ej8xWz3OI2l"
      },
      "source": [
        "Function for Curve 25519 implementation which takes two parameters:\n",
        "\n",
        "\n",
        "*   k - scalar\n",
        "*   u - u coordinate\n",
        "\n",
        "In this function we ensure that we operate at the defined Galois Field for specific prime number 2^255 - 19"
      ]
    },
    {
      "cell_type": "code",
      "metadata": {
        "id": "3TJgRSusMkNC"
      },
      "source": [
        "def decodeUCoordinate_25519(s):\n",
        "    if len(s) != 32:\n",
        "        raise ValueError('Invalid Curve25519 scalar (len=%d)' % len(s))\n",
        "    t = sum((ord(s[i])) << (8 * i) for i in range(31))\n",
        "    t += (((ord(s[31])) & 0x7f) << 248)\n",
        "    return t\n",
        "    # This is done to preserve compatibility with point formats that\n",
        "    # reserve the sign bit for use in other protocols\n",
        "    # galois field is set of integers modulo P\n",
        "\n",
        "def encodeUCoordinate_25519(n):\n",
        "    return ''.join([chr((n >> (8 * i)) & 255) for i in range(32)])"
      ],
      "execution_count": null,
      "outputs": []
    },
    {
      "cell_type": "markdown",
      "metadata": {
        "id": "KKjluU8oQPkB"
      },
      "source": [
        "Encoding and decoding to and from little-endian for u-coordinate"
      ]
    },
    {
      "cell_type": "code",
      "metadata": {
        "id": "gfwhOSbKMrG6"
      },
      "source": [
        "# Return nP\n",
        "def multscalar_25519(n, p):\n",
        "    n = decodeScalar25519(n) % P_25519\n",
        "    p = decodeUCoordinate_25519(p)\n",
        "    return encodeUCoordinate_25519(X25519(n, p))"
      ],
      "execution_count": null,
      "outputs": []
    },
    {
      "cell_type": "markdown",
      "metadata": {
        "id": "OPsS5yPOQUFw"
      },
      "source": [
        "Scalar multiplication for any point on the Eliptic curve"
      ]
    },
    {
      "cell_type": "code",
      "metadata": {
        "id": "loOHkIzlNB4T"
      },
      "source": [
        "# Start at x=9. Find point n times x-point\n",
        "def base_point_mult_25519(n):\n",
        "    n = decodeScalar25519(n) % P_25519\n",
        "    return encodeUCoordinate_25519(X25519(n, 9))"
      ],
      "execution_count": null,
      "outputs": []
    },
    {
      "cell_type": "markdown",
      "metadata": {
        "id": "ia5DFm24RNDE"
      },
      "source": [
        "Base point multiplication ( for Curve 25519 = 9), from this point all the scalar operations begin"
      ]
    },
    {
      "cell_type": "markdown",
      "metadata": {
        "id": "r5YOEPAwRbIx"
      },
      "source": [
        "## ECDH Curve 25519 simulation"
      ]
    },
    {
      "cell_type": "code",
      "metadata": {
        "colab": {
          "base_uri": "https://localhost:8080/"
        },
        "id": "kr2LhI7TwQ44",
        "outputId": "6349a2bd-7208-485e-ba0a-91cc86f89d13"
      },
      "source": [
        "P_25519 = 2 ** 255 - 19\n",
        "A24_25519 = 486662       #y^2 + x^2 = 1 - 156326*x^2*y^2\n",
        "\n",
        "a = os.urandom(32)       # generating random 32-bytes strings (private a)\n",
        "b = os.urandom(32)       # generating random 32-bytes strings (private b)\n",
        "\n",
        "\n",
        "print(f\"\\nAlice private (a): \\t{bytes_to_int_25519(a)}\")\n",
        "print(f\"Bob private (b):\\t{bytes_to_int_25519(b)}\")\n",
        "\n",
        "\n",
        "# Traditional ECDH: \n",
        "a_pub = base_point_mult_25519(a)    # a * G\n",
        "b_pub = base_point_mult_25519(b)    # b * G\n",
        "\n",
        "\n",
        "print(\"\\nAlice public (aG):\\t\", binascii.hexlify(a_pub.encode()))       # representing aG in hex (encode -> to ASCII)\n",
        "print(\"Bob public (bG):\\t\", binascii.hexlify(b_pub.encode()))           # representing bG in hex (encode -> to ASCII)\n",
        "\n",
        "\n",
        "k_a = multscalar_25519(a, b_pub)  # a * (bG)\n",
        "k_b = multscalar_25519(b, a_pub)  # b * (aG)\n",
        "\n",
        "\n",
        "print(\"\\nAlice shared (a)bG:\\t\", binascii.hexlify(k_a.encode()))\n",
        "print(\"Bob shared (b)aG:\\t\", binascii.hexlify(k_b.encode()))\n",
        "\n",
        "print(\"\\nAre equal: \", binascii.hexlify(k_a.encode()) == binascii.hexlify(k_b.encode()))"
      ],
      "execution_count": null,
      "outputs": [
        {
          "output_type": "stream",
          "text": [
            "\n",
            "Alice private (a): \t107179069739012156919246421273997212251513418366390462616861731035269237815411\n",
            "Bob private (b):\t21124535343497202236924185811870228742411045348734263195118785842939661188367\n",
            "\n",
            "Alice public (aG):\t b'58777b10c3bec287c3bfc3b4c3a90335577ac38dc38251c2b671c3b176c3b55040c2b1c387c3bd33c2b45fc2abc28263'\n",
            "Bob public (bG):\t b'c2a0c2a478c2bc0552117911c380c3adc28bc3a6c29e4559c2a10c39c38412167bc2afc2b614c29bc3b92007c2be12'\n",
            "\n",
            "Alice shared (a)bG:\t b'437103c3bdc3aec2b264c2afc3af0356c3ae2475c38dc293c38a0ac290c381c3ba1e1047c386c295c385c38e05c3b2c38a2c'\n",
            "Bob shared (b)aG:\t b'437103c3bdc3aec2b264c2afc3af0356c3ae2475c38dc293c38a0ac290c381c3ba1e1047c386c295c385c38e05c3b2c38a2c'\n",
            "\n",
            "Are equal:  True\n"
          ],
          "name": "stdout"
        }
      ]
    },
    {
      "cell_type": "markdown",
      "metadata": {
        "id": "2EqlcvX2VrVJ"
      },
      "source": [
        "## Verification of the results"
      ]
    },
    {
      "cell_type": "code",
      "metadata": {
        "colab": {
          "base_uri": "https://localhost:8080/",
          "height": 276
        },
        "id": "FdpSxKEKSBc7",
        "outputId": "84d150ea-c683-4cc5-ad76-9e075abbc5f0"
      },
      "source": [
        "y, x = np.ogrid[ -200000000:200000000:100j,-500000:500000:100j]\n",
        "plt.contour(x.ravel(), y.ravel(), pow(y, 2) - pow(x, 3) - pow(x,2) * A24_25519 - x, [0])\n",
        "\n",
        "plt.grid()\n",
        "plt.show()"
      ],
      "execution_count": null,
      "outputs": [
        {
          "output_type": "display_data",
          "data": {
            "image/png": "[encoded data removed]",
            "text/plain": [
              "<Figure size 432x288 with 1 Axes>"
            ]
          },
          "metadata": {
            "tags": [],
            "needs_background": "light"
          }
        }
      ]
    },
    {
      "cell_type": "markdown",
      "metadata": {
        "id": "KctHhHPuVxCA"
      },
      "source": [
        "## Performance test"
      ]
    },
    {
      "cell_type": "code",
      "metadata": {
        "colab": {
          "base_uri": "https://localhost:8080/"
        },
        "id": "ukuLODmvTL1F",
        "outputId": "3ecd2baa-f7ec-45b2-d640-bdae9756eae4"
      },
      "source": [
        "n = 200\n",
        "samples_25519 = []\n",
        "for i in range(n):\n",
        "    start = time.time()\n",
        "    a = os.urandom(32)  # generating random 32-bytes strings (private a)\n",
        "    b = os.urandom(32)  # generating random 32-bytes strings (private b)\n",
        "    a_pub_perform = base_point_mult_25519(a)  # a * G\n",
        "    b_pub_perform = base_point_mult_25519(b)  # b * G\n",
        "\n",
        "    k_a = multscalar_25519(a, b_pub)  # a * (bG)\n",
        "    k_b = multscalar_25519(b, a_pub)  # b * (aG)\n",
        "    end = time.time()\n",
        "    samples_25519.append(end-start)\n",
        "\n",
        "df_25519 = pd.Series(samples_25519)\n",
        "\n",
        "mean25519 = statistics.mean(samples_25519)*1000\n",
        "std25519 = df_25519.std()*1000\n",
        "print('Average: ', mean25519, 'ms')\n",
        "print('Variance: ', std25519, 'ms')"
      ],
      "execution_count": null,
      "outputs": [
        {
          "output_type": "stream",
          "text": [
            "Average:  10.915292501449585 ms\n",
            "Variance:  1.1880270995070907 ms\n"
          ],
          "name": "stdout"
        }
      ]
    },
    {
      "cell_type": "markdown",
      "metadata": {
        "id": "md09RGunz1Us"
      },
      "source": [
        "#Summary"
      ]
    },
    {
      "cell_type": "code",
      "metadata": {
        "colab": {
          "base_uri": "https://localhost:8080/",
          "height": 352
        },
        "id": "AIpvD5yuz3NT",
        "outputId": "9cd38f3c-b828-40ec-b1c8-29baba4fb18e"
      },
      "source": [
        "fig = plt.figure()\n",
        "ax = fig.add_axes([0,0,1,1])\n",
        "X = np.arange(2)\n",
        "curves = ['25519', '448']\n",
        "data = [[mean25519, std25519], [mean448, std448]]\n",
        "ax.bar(X + 0.00, data[0], color = 'y', width = 0.25)\n",
        "ax.bar(X + 0.25, data[1], color = 'r', width = 0.25)\n",
        "ax.legend(labels=['25519', '448'])\n",
        "ax.set_ylabel('Time[ms]')\n",
        "ax.set_title('Performance test')\n",
        "plt.xticks(X + 0.25 / 2, ('Mean', 'Variance'))\n",
        "plt.show()"
      ],
      "execution_count": null,
      "outputs": [
        {
          "output_type": "display_data",
          "data": {
            "image/png": "[encoded data removed]",
            "text/plain": [
              "<Figure size 432x288 with 1 Axes>"
            ]
          },
          "metadata": {
            "tags": [],
            "needs_background": "light"
          }
        }
      ]
    }
  ]
}
